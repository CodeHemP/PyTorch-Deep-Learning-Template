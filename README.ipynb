{
 "cells": [
  {
   "cell_type": "markdown",
   "metadata": {},
   "source": [
    "# Pytorch Deep Learning Template\n",
    "### A clean and simple template to kick start your project\n",
    "*Francesco Saverio Zuppichini*\n",
    "\n",
    "This template aims to make it easier for you to start a new deep learning computer vision project with PyTorch. The main features are:\n",
    "\n",
    "- modularity: we split each logic piece into a different python submodule\n",
    "- data-augmentation: we included [imgaug](https://imgaug.readthedocs.io/en/latest/)\n",
    "- ready to go: by using [poutyne](https://pypi.org/project/Poutyne/) a Keras-like  framework you don't have to write any train loop.\n",
    "- [torchsummary](https://github.com/sksq96/pytorch-summary) to show a summary of your models\n",
    "- reduce the learning rate on a plateau\n",
    "- auto-saving the best model\n",
    "- experiment tracking with [comet](https://www.comet.ml/)\n",
    "\n",
    "### Motivation\n",
    "Let's face it,  usually data scientists are not software engineers and they usually end up with spaghetti code, most of the time on a big unusable Jupiter-notebook. With this repo, you have proposed a clean example of how your code should be split and modularized to make scalability and sharability possible. In this example, we will try to classify Darth Vader and Luke Skywalker. We have 100 images per class gathered using google images. The dataset is [here](https://drive.google.com/open?id=1LyHJxUVjOgDIgGJL4MnDhA10xjejWuw7). You just have to exact it in this folder and run main.py. We are fine-tuning resnet18 and it should be able to reach > 90% accuracy in 5/10 epochs.\n",
    "\n",
    "## Structure\n",
    "The template is inside `./template`.\n",
    "```\n",
    ".\n",
    "├── callbacks // here you can create your custom callbacks\n",
    "├── checkpoint // were we store the trained models\n",
    "├── data // here we define our dataset\n",
    "│   └── transformation // custom transformation, e.g. resize and data augmentation\n",
    "├── dataset // the data\n",
    "│   ├── train\n",
    "│   └── val\n",
    "├── logger.py // were we define our logger\n",
    "├── losses // custom losses\n",
    "├── main.py\n",
    "├── models // here we create our models\n",
    "│   ├── MyCNN.py\n",
    "│   ├── resnet.py\n",
    "│   └── utils.py\n",
    "├── playground.ipynb // a notebook that can be used to fast experiment with things\n",
    "├── Project.py // a class that represents the project structure\n",
    "├── README.md\n",
    "├── requirements.txt\n",
    "├── test // you should always perform some basic testing\n",
    "│   └── test_myDataset.py\n",
    "└── utils.py // utilities functions\n",
    "```\n"
   ]
  },
  {
   "cell_type": "markdown",
   "metadata": {},
   "source": [
    "**We strongly encourage to play around with the template**"
   ]
  },
  {
   "cell_type": "markdown",
   "metadata": {},
   "source": [
    "### Keep your structure clean and concise\n",
    "\n",
    "Every deep learning project has at least three mains steps:\n",
    "\n",
    "- data gathering/processing\n",
    "- modeling\n",
    "- training/evaluating"
   ]
  },
  {
   "cell_type": "markdown",
   "metadata": {},
   "source": [
    "## Project\n",
    "One good idea is to store all the paths at an interesting location, e.g. the dataset folder, in a shared class that be accessed by anyone in the folder. You should never hardcode any paths and always define them once and import them. So, if you later change your structure you will only have to modify one file.\n",
    "\n",
    "If we have a look at `Project.py` we can see how we defined the `data_dir` and the `checkpoint_dir` once for all. We are using the 'new' [Path](https://docs.python.org/3/library/pathlib.html) APIs that supports different OS out of the box, and also make it easier to join and concatenate paths. \n",
    "\n",
    "![alt](https://raw.githubusercontent.com/FrancescoSaverioZuppichini/PyTorch-Deep-Learning-Skeletron/develop/images/Project.png)"
   ]
  },
  {
   "cell_type": "markdown",
   "metadata": {},
   "source": [
    "## Data\n",
    "A wise man once said *everything starts with the data*. In the `data` package you can define your Dataset, as always by subclassing `torch.data.utils.Dataset`. In our example, we directly used `ImageDataset` from `torchvision` but we included a skeleton in `/data/MyDataset`\n",
    "\n",
    "### Transformation\n",
    "You usually have to do some preprocessing on the data, e.g. resize the images and apply data augmentation. All your transformation should go inside `.data.trasformation`\n",
    "\n",
    "\n",
    "![alt](https://raw.githubusercontent.com/FrancescoSaverioZuppichini/PyTorch-Deep-Learning-Skeletron/develop/images/transformation.png)\n",
    "\n",
    "### Dataloaders\n",
    "As you know, you have to create a `Dataloader` to feed your data into the model. In the `data.__init__.py` file we expose a very simple function `get_dataloaders` to automatically configure the *train, val and test* dataloaders using few parameters\n",
    "\n",
    "![alt](https://raw.githubusercontent.com/FrancescoSaverioZuppichini/PyTorch-Deep-Learning-Skeletron/develop/images/data.png)"
   ]
  },
  {
   "cell_type": "markdown",
   "metadata": {},
   "source": [
    "## Models\n",
    "All your models go inside `models`, in our case we have a very basic cnn and we override the `resnet18` function to provide a frozen model to finetune.\n",
    "\n",
    "![alt](https://github.com/FrancescoSaverioZuppichini/PyTorch-Deep-Learning-Skeletron/blob/develop/images/resnet.png?raw=true)"
   ]
  },
  {
   "cell_type": "markdown",
   "metadata": {},
   "source": [
    "## Train/Evaluation\n",
    "\n",
    "In our case we kept things simple, all the training and evaluation logic is inside `.main.py` where we used [poutyne](https://pypi.org/project/Poutyne/) as the main library. We already defined a useful list of callbacks:\n",
    "\n",
    "- learning rate scheduler\n",
    "- auto-save of the best model\n",
    "- early stopping\n",
    "Usually, this is all you need!\n",
    "\n",
    "![alt](https://github.com/FrancescoSaverioZuppichini/PyTorch-Deep-Learning-Skeletron/blob/develop/images/main.png?raw=true)\n",
    "\n",
    "### Track your experiment\n",
    "We are using [comet](https://www.comet.ml/) to automatically track our models' results. This is what comet's board looks like after a few models runs.\n",
    "\n",
    "\n",
    "![alt](https://github.com/FrancescoSaverioZuppichini/PyTorch-Deep-Learning-Skeletron/blob/develop/images/comet.jpg?raw=true)\n",
    "\n",
    "\n",
    "Running `main.py` produces the folowing output:\n",
    "\n",
    "![alt](https://github.com/FrancescoSaverioZuppichini/PyTorch-Deep-Learning-Skeletron/blob/develop/images/output.jpg?raw=true)"
   ]
  },
  {
   "cell_type": "markdown",
   "metadata": {},
   "source": [
    "## Utils\n",
    "\n",
    "We also created different utilities function to plot booth dataset and dataloader. They are in `utils.py`. For example, calling `show_dl` on our train and val dataset produces the following outputs.\n",
    "\n",
    "\n",
    "![alt](https://github.com/FrancescoSaverioZuppichini/PyTorch-Deep-Learning-Skeletron/blob/develop/images/Figure_1.png?raw=true)\n",
    "\n",
    "![alt](https://github.com/FrancescoSaverioZuppichini/PyTorch-Deep-Learning-Skeletron/blob/develop/images/Figure_2.png?raw=true)\n",
    "\n",
    "As you can see data-augmentation is correctly applied on the train set"
   ]
  },
  {
   "cell_type": "markdown",
   "metadata": {},
   "source": [
    "## Conclusions\n",
    "I hope you found some useful informations and hopefully you will start to organize your next project better.\n",
    "\n",
    "Thank you for reading"
   ]
  }
 ],
 "metadata": {
  "kernelspec": {
   "display_name": "Python 3",
   "language": "python",
   "name": "python3"
  },
  "language_info": {
   "codemirror_mode": {
    "name": "ipython",
    "version": 3
   },
   "file_extension": ".py",
   "mimetype": "text/x-python",
   "name": "python",
   "nbconvert_exporter": "python",
   "pygments_lexer": "ipython3",
   "version": "3.7.3"
  }
 },
 "nbformat": 4,
 "nbformat_minor": 2
}
